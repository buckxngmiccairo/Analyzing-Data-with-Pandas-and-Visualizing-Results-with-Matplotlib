{
  "cells": [
    {
      "cell_type": "markdown",
      "metadata": {},
      "source": [
        "# \ud83d\udcd8 Assignment: Analyzing Data with Pandas and Visualizing Results with Matplotlib\n",
        "---\n",
        "This notebook covers:\n",
        "- Loading and exploring a dataset with **pandas**\n",
        "- Performing basic analysis\n",
        "- Creating visualizations with **matplotlib** and **seaborn**\n",
        "- Drawing observations\n"
      ]
    },
    {
      "cell_type": "code",
      "execution_count": null,
      "metadata": {},
      "outputs": [],
      "source": [
        "# -------------------------------\n",
        "# Import required libraries\n",
        "# -------------------------------\n",
        "import pandas as pd\n",
        "import matplotlib.pyplot as plt\n",
        "import seaborn as sns\n",
        "\n",
        "%matplotlib inline"
      ]
    },
    {
      "cell_type": "markdown",
      "metadata": {},
      "source": [
        "## Task 1: Load and Explore Dataset"
      ]
    },
    {
      "cell_type": "code",
      "execution_count": null,
      "metadata": {},
      "outputs": [],
      "source": [
        "try:\n",
        "    # Load example dataset (Iris)\n",
        "    df = sns.load_dataset(\"iris\")\n",
        "    print(\"\u2705 Dataset loaded successfully!\\n\")\n",
        "except FileNotFoundError:\n",
        "    print(\"\u274c Error: File not found. Please check the path.\")\n",
        "except Exception as e:\n",
        "    print(f\"\u274c Error: {e}\")"
      ]
    },
    {
      "cell_type": "code",
      "execution_count": null,
      "metadata": {},
      "outputs": [],
      "source": [
        "# Display first few rows\n",
        "df.head()"
      ]
    },
    {
      "cell_type": "code",
      "execution_count": null,
      "metadata": {},
      "outputs": [],
      "source": [
        "# Dataset info\n",
        "print(\"Dataset Info:\")\n",
        "print(df.info())\n",
        "\n",
        "# Check missing values\n",
        "print(\"\\nMissing Values:\")\n",
        "print(df.isnull().sum())"
      ]
    },
    {
      "cell_type": "code",
      "execution_count": null,
      "metadata": {},
      "outputs": [],
      "source": [
        "# Clean dataset (drop NAs if any)\n",
        "df = df.dropna()\n",
        "print(\"\u2705 Cleaned dataset shape:\", df.shape)"
      ]
    },
    {
      "cell_type": "markdown",
      "metadata": {},
      "source": [
        "## Task 2: Basic Data Analysis"
      ]
    },
    {
      "cell_type": "code",
      "execution_count": null,
      "metadata": {},
      "outputs": [],
      "source": [
        "# Summary statistics\n",
        "df.describe()"
      ]
    },
    {
      "cell_type": "code",
      "execution_count": null,
      "metadata": {},
      "outputs": [],
      "source": [
        "# Grouping by species\n",
        "grouped = df.groupby(\"species\")[\"petal_length\"].mean()\n",
        "print(\"Average Petal Length per Species:\")\n",
        "print(grouped)"
      ]
    },
    {
      "cell_type": "markdown",
      "metadata": {},
      "source": [
        "## Task 3: Data Visualization"
      ]
    },
    {
      "cell_type": "code",
      "execution_count": null,
      "metadata": {},
      "outputs": [],
      "source": [
        "# 1. Line Chart\n",
        "plt.figure(figsize=(8,5))\n",
        "plt.plot(df.index, df[\"sepal_length\"], label=\"Sepal Length\")\n",
        "plt.plot(df.index, df[\"petal_length\"], label=\"Petal Length\")\n",
        "plt.title(\"Line Chart: Sepal vs Petal Length\")\n",
        "plt.xlabel(\"Index\")\n",
        "plt.ylabel(\"Length (cm)\")\n",
        "plt.legend()\n",
        "plt.show()"
      ]
    },
    {
      "cell_type": "code",
      "execution_count": null,
      "metadata": {},
      "outputs": [],
      "source": [
        "# 2. Bar Chart\n",
        "plt.figure(figsize=(7,5))\n",
        "grouped.plot(kind=\"bar\", color=[\"#4c72b0\", \"#55a868\", \"#c44e52\"])\n",
        "plt.title(\"Average Petal Length per Species\")\n",
        "plt.xlabel(\"Species\")\n",
        "plt.ylabel(\"Petal Length (cm)\")\n",
        "plt.show()"
      ]
    },
    {
      "cell_type": "code",
      "execution_count": null,
      "metadata": {},
      "outputs": [],
      "source": [
        "# 3. Histogram\n",
        "plt.figure(figsize=(7,5))\n",
        "plt.hist(df[\"sepal_length\"], bins=15, color=\"skyblue\", edgecolor=\"black\")\n",
        "plt.title(\"Histogram: Distribution of Sepal Length\")\n",
        "plt.xlabel(\"Sepal Length (cm)\")\n",
        "plt.ylabel(\"Frequency\")\n",
        "plt.show()"
      ]
    },
    {
      "cell_type": "code",
      "execution_count": null,
      "metadata": {},
      "outputs": [],
      "source": [
        "# 4. Scatter Plot\n",
        "plt.figure(figsize=(7,5))\n",
        "sns.scatterplot(x=\"sepal_length\", y=\"petal_length\", hue=\"species\", data=df, palette=\"deep\")\n",
        "plt.title(\"Scatter Plot: Sepal Length vs Petal Length\")\n",
        "plt.xlabel(\"Sepal Length (cm)\")\n",
        "plt.ylabel(\"Petal Length (cm)\")\n",
        "plt.legend(title=\"Species\")\n",
        "plt.show()"
      ]
    },
    {
      "cell_type": "markdown",
      "metadata": {},
      "source": [
        "## Findings & Observations"
      ]
    },
    {
      "cell_type": "code",
      "execution_count": null,
      "metadata": {},
      "outputs": [],
      "source": [
        "print(\"\\n\ud83d\udcca Findings & Observations:\")\n",
        "print(\"- No missing values found in the Iris dataset.\")\n",
        "print(\"- Setosa has the smallest petal sizes on average.\")\n",
        "print(\"- Virginica has the largest petal sizes.\")\n",
        "print(\"- Sepal length distribution is mostly between 5.0\u20136.5 cm.\")\n",
        "print(\"- Scatter plot shows clear clusters of species, indicating strong relationships between sepal and petal length.\")"
      ]
    }
  ],
  "metadata": {
    "kernelspec": {
      "display_name": "Python 3",
      "language": "python",
      "name": "python3"
    },
    "language_info": {
      "name": "python",
      "version": "3.10"
    }
  },
  "nbformat": 4,
  "nbformat_minor": 5
}